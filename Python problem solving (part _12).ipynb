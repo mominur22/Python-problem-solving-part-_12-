{
 "cells": [
  {
   "cell_type": "markdown",
   "id": "23f5e8cb",
   "metadata": {},
   "source": [
    "# Python problem solving (part _12)"
   ]
  },
  {
   "cell_type": "markdown",
   "id": "43dcb0b3",
   "metadata": {},
   "source": [
    "69. Duplicate Removal: Write a Python program that takes a list of elements as input and creates a new set containing only the unique elements from the list."
   ]
  },
  {
   "cell_type": "code",
   "execution_count": 1,
   "id": "6b038d1d",
   "metadata": {},
   "outputs": [
    {
     "name": "stdout",
     "output_type": "stream",
     "text": [
      "[1, 2, 3, 4, 5]\n"
     ]
    }
   ],
   "source": [
    "def unique_list(l):\n",
    "    x = []\n",
    "    for a in l:\n",
    "        if a not in x:\n",
    "            x.append(a)\n",
    "    # Return the list 'x' containing unique elements\n",
    "    return x\n",
    "print(unique_list([1, 2, 3, 3, 3, 3, 4, 5]))  "
   ]
  },
  {
   "cell_type": "markdown",
   "id": "3ae1eab9",
   "metadata": {},
   "source": [
    "# 70. Set Intersection: Given two sets A and B, write a Python program to find their intersection and print the common elements."
   ]
  },
  {
   "cell_type": "code",
   "execution_count": 2,
   "id": "d471e4a4",
   "metadata": {},
   "outputs": [
    {
     "name": "stdout",
     "output_type": "stream",
     "text": [
      "{5}\n",
      "No common elements\n"
     ]
    }
   ],
   "source": [
    "def common_member(a, b):\n",
    "    a_set = set(a)\n",
    "    b_set = set(b)\n",
    "    if (a_set & b_set):\n",
    "        print(a_set & b_set)\n",
    "    else:\n",
    "        print(\"No common elements\") \n",
    "a = [1, 2, 3, 4, 5]\n",
    "b = [5, 6, 7, 8, 9]\n",
    "common_member(a, b)\n",
    "  \n",
    "a = [1, 2, 3, 4, 5]\n",
    "b = [6, 7, 8, 9]\n",
    "common_member(a, b)"
   ]
  },
  {
   "cell_type": "markdown",
   "id": "d00e4689",
   "metadata": {},
   "source": [
    "# 71. Set Union: Given two sets A and B, write a Python program to find their union and print all the distinct elements from both sets."
   ]
  },
  {
   "cell_type": "code",
   "execution_count": null,
   "id": "845ef82d",
   "metadata": {},
   "outputs": [],
   "source": [
    "input_set_a = input(\"Enter elements for set A separated by spaces: \")\n",
    "set_a = set(input_set_a.split())\n",
    "input_set_b = input(\"Enter elements for set B separated by spaces: \")\n",
    "set_b = set(input_set_b.split())\n",
    "union_result = set_a.union(set_b)\n",
    "print(\"Distinct Elements (Union) of Sets A and B:\")\n",
    "print(union_result)"
   ]
  },
  {
   "cell_type": "markdown",
   "id": "04cb523b",
   "metadata": {},
   "source": [
    "# 72. Set Difference: Given two sets A and B, write a Python program to find the difference between set A and set B (i.e., elements present in A but not in B) and print the result."
   ]
  },
  {
   "cell_type": "code",
   "execution_count": null,
   "id": "6435b845",
   "metadata": {},
   "outputs": [],
   "source": [
    "input_set_a = input(\"Enter elements for set A separated by spaces: \")\n",
    "set_a = set(input_set_a.split())\n",
    "input_set_b = input(\"Enter elements for set B separated by spaces: \")\n",
    "set_b = set(input_set_b.split())\n",
    "difference_result = set_a.difference(set_b)\n",
    "print(\"Difference (A - B) of Sets A and B:\")\n",
    "print(difference_result)"
   ]
  },
  {
   "cell_type": "markdown",
   "id": "6bfe285e",
   "metadata": {},
   "source": [
    "# 73. Set Symmetric Difference: Given two sets A and B, write a Python program to find the symmetric difference between the two sets (i.e., elements that are present in either set A or set B, but not in both) and print the result."
   ]
  },
  {
   "cell_type": "code",
   "execution_count": null,
   "id": "aa774c8b",
   "metadata": {},
   "outputs": [],
   "source": [
    "set_A = {1, 2, 3, 4, 5}\n",
    "set_B = {6, 7, 3, 9, 4}\n",
    "print(set_A.symmetric_difference(set_B))"
   ]
  },
  {
   "cell_type": "markdown",
   "id": "7c00fcdd",
   "metadata": {},
   "source": [
    "# 74. Set Operations: Given three sets A, B, and C, write a Python program to find and print the intersection of A and B, the union of B and C, and the difference between C and A."
   ]
  },
  {
   "cell_type": "code",
   "execution_count": null,
   "id": "811892fa",
   "metadata": {},
   "outputs": [],
   "source": [
    "setx = set([\"green\", \"blue\"])\n",
    "sety = set([\"blue\", \"yellow\"])\n",
    "#Print a message to indicate the original set elements:\n",
    "print(\"Original set elements:\")\n",
    "# Print the contents of 'setx':\n",
    "print(setx)\n",
    "print(sety)\n",
    "print(\"\\nIntersection of two said sets:\")\n",
    "setz = setx & sety\n",
    "print(setz)\n"
   ]
  },
  {
   "cell_type": "markdown",
   "id": "14e429e3",
   "metadata": {},
   "source": [
    "# 75. Set Subset Check: Given two sets A and B, write a Python program to check if set A is a subset of set B and print the result."
   ]
  },
  {
   "cell_type": "code",
   "execution_count": null,
   "id": "be0b83f3",
   "metadata": {},
   "outputs": [],
   "source": [
    "# Get user input for elements of sets A and B\n",
    "input_set_a = input(\"Enter elements for set A separated by spaces: \")\n",
    "set_a = set(input_set_a.split())\n",
    "input_set_b = input(\"Enter elements for set B separated by spaces: \")\n",
    "set_b = set(input_set_b.split())\n",
    "is_subset = set_a.issubset(set_b)\n",
    "if is_subset:\n",
    "    print(\"Set A is a subset of Set B.\")\n",
    "else:\n",
    "    print(\"Set A is not a subset of Set B.\")"
   ]
  },
  {
   "cell_type": "markdown",
   "id": "bf281b30",
   "metadata": {},
   "source": [
    "# 76. Set Superset Check: Given two sets A and B, write a Python program to check if set A is a superset of set B and print the result."
   ]
  },
  {
   "cell_type": "code",
   "execution_count": null,
   "id": "c73223f3",
   "metadata": {},
   "outputs": [],
   "source": [
    "input_set_a = input(\"Enter elements for set A separated by spaces: \")\n",
    "set_a = set(input_set_a.split())\n",
    "input_set_b = input(\"Enter elements for set B separated by spaces: \")\n",
    "set_b = set(input_set_b.split())\n",
    "is_superset = set_a.issuperset(set_b)\n",
    "if is_superset:\n",
    "    print(\"Set A is a superset of Set B.\")\n",
    "else:\n",
    "    print(\"Set A is not a superset of Set B.\")"
   ]
  },
  {
   "cell_type": "markdown",
   "id": "85b4a6c3",
   "metadata": {},
   "source": [
    "# 77. Set Length Check: Write a Python program that takes a set as input and prints the number of elements in the set."
   ]
  },
  {
   "cell_type": "code",
   "execution_count": null,
   "id": "6aedb636",
   "metadata": {},
   "outputs": [],
   "source": [
    "input_set = input(\"Enter elements for the set separated by spaces: \")\n",
    "user_set = set(input_set.split())\n",
    "num_elements = len(user_set)\n",
    "print(\"Number of Elements in the Set:\", num_elements)"
   ]
  },
  {
   "cell_type": "markdown",
   "id": "c267db94",
   "metadata": {},
   "source": [
    "# 78. Set Membership Test: Write a Python program that takes an element as input and checks if it exists in a given set. Print “Found” if the element is present and “Not Found” otherwise."
   ]
  },
  {
   "cell_type": "code",
   "execution_count": null,
   "id": "8f199d78",
   "metadata": {},
   "outputs": [],
   "source": [
    "input_set = input(\"Enter elements for the set separated by spaces: \")\n",
    "user_set = set(input_set.split())\n",
    "element_to_check = input(\"Enter the element to check: \")\n",
    "if element_to_check in user_set:\n",
    "    print(\"Found\")\n",
    "else:\n",
    "    print(\"Not Found\")\n"
   ]
  },
  {
   "cell_type": "code",
   "execution_count": null,
   "id": "e24b465b",
   "metadata": {},
   "outputs": [],
   "source": []
  }
 ],
 "metadata": {
  "kernelspec": {
   "display_name": "Python 3 (ipykernel)",
   "language": "python",
   "name": "python3"
  },
  "language_info": {
   "codemirror_mode": {
    "name": "ipython",
    "version": 3
   },
   "file_extension": ".py",
   "mimetype": "text/x-python",
   "name": "python",
   "nbconvert_exporter": "python",
   "pygments_lexer": "ipython3",
   "version": "3.11.5"
  }
 },
 "nbformat": 4,
 "nbformat_minor": 5
}
